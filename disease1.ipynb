{
 "cells": [
  {
   "cell_type": "code",
   "execution_count": null,
   "metadata": {},
   "outputs": [],
   "source": [
    "def uti():\n",
    "    return(\"YOU MAY BE SUFFERING FROM UTI INFECTION,GET YOUR URINE TEST DONE\")\n",
    "def maleria():\n",
    "    return(\"YOU MAY BE SUFFRING FROM MALERIA,GET YOUR MPFM TEST DONE WITH CBC\")\n",
    "def covid():\n",
    "    return(\"YOU MAY BE SUFFERING FROM COVID GET YOUR RTPCR TEST,CBC,CRP,D-DIMER TEST DONE\")\n",
    "def typhoid():\n",
    "    return(\"YOU MAY BE SUFFERING FROM TYPHOID GET YOUR WIDAL TEST DONE\")\n",
    "def colitis():\n",
    "    return(\"YOU MAY BE SUFFERING FROM COLITIS,GET YOUR ABDOMENE ULTRASOUND DONE\")\n",
    "def jaundice():\n",
    "    return(\"YOU MAY BE SUFFERING FROM JAUNDICE, GET YOUR SERUM BILLIRUBIN,SGPT,SGOT/LFT TEST DONE \")\n",
    "def pcod():\n",
    "    return(\"YOU MAY BE SUFFERING FROM PCOD,GET YOUR LOWER ABDOMEN ULTRASOUND DONE \")\n",
    "def piles():\n",
    "    return(\"YOU MAY BE SUFFERING FROM PILES GET YOUR COLONOSCOPY DONE\")"
   ]
  },
  {
   "cell_type": "code",
   "execution_count": null,
   "metadata": {},
   "outputs": [],
   "source": []
  },
  {
   "cell_type": "code",
   "execution_count": null,
   "metadata": {},
   "outputs": [],
   "source": []
  }
 ],
 "metadata": {
  "kernelspec": {
   "display_name": "Python 3",
   "language": "python",
   "name": "python3"
  },
  "language_info": {
   "codemirror_mode": {
    "name": "ipython",
    "version": 3
   },
   "file_extension": ".py",
   "mimetype": "text/x-python",
   "name": "python",
   "nbconvert_exporter": "python",
   "pygments_lexer": "ipython3",
   "version": "3.8.3"
  }
 },
 "nbformat": 4,
 "nbformat_minor": 4
}
